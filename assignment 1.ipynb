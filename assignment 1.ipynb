{
 "cells": [
  {
   "cell_type": "code",
   "execution_count": 96,
   "metadata": {
    "colab": {
     "base_uri": "https://localhost:8080/"
    },
    "id": "yp1w3IPu8MwJ",
    "outputId": "94168d33-bba8-4299-b0c3-b27a0ae3d1c1"
   },
   "outputs": [
    {
     "name": "stdout",
     "output_type": "stream",
     "text": [
      "Drive already mounted at /content/drive; to attempt to forcibly remount, call drive.mount(\"/content/drive\", force_remount=True).\n"
     ]
    }
   ],
   "source": [
    "from google.colab import drive\n",
    "drive.mount('/content/drive')\n",
    "import torch\n",
    "import random\n",
    "import numpy as np\n",
    "from matplotlib import pyplot as plt\n",
    "import torchvision\n",
    "plt.show()\n",
    "import scipy.io as sio\n",
    "from torch.utils.data import Dataset, DataLoader\n",
    "\n",
    "device = 'cuda' if torch.cuda.is_available() else 'cpu'\n",
    "\n",
    "# # test = sio.loadmat(\"drive/My Drive/Colab Notebooks/cv202/assignment 8/test_32x32.mat\" )\n",
    "# a=sio.loadmat(\"drive/My Drive/Colab Notebooks/PeaksData.mat\" )\n"
   ]
  },
  {
   "cell_type": "code",
   "execution_count": 97,
   "metadata": {
    "id": "VcbrXs2Y76De",
    "scrolled": true
   },
   "outputs": [],
   "source": [
    "import scipy.io\n",
    "import math\n",
    "import numpy as np\n",
    "import random\n",
    "import matplotlib.pyplot as plt"
   ]
  },
  {
   "cell_type": "code",
   "execution_count": 98,
   "metadata": {
    "id": "87yPFAkU76D1"
   },
   "outputs": [],
   "source": [
    "# Auxiliary functions \n",
    "def carryLeftArg(fu, b, c):\n",
    "    return lambda a: fu(a,b,c)\n",
    "\n",
    "def carryMiddleArg(fu, a, c):\n",
    "    return lambda b: fu(a,b,c)\n",
    "\n",
    "def carryLeftAndMiddleArgs(fu, c):\n",
    "    return lambda a,b: fu(a,b,c)\n",
    "\n",
    "# vectorized functions\n",
    "vec_exp = np.vectorize(math.exp)\n",
    "vec_identity = np.vectorize(lambda a : a)\n",
    "vec_tanh_derivative = np.vectorize(lambda a : 1-(math.tanh(a)**2))\n",
    "\n",
    "# matrix manipulation functions\n",
    "def pertVecMatrix(M, vec, ind): # Adds a vector to column ind of M\n",
    "    M = M.copy() # So M itself won't change.\n",
    "    M[:, ind] = M[:, ind] + vec\n",
    "    return M\n",
    "\n",
    "def sumWeirdMat(W):\n",
    "    s = 0\n",
    "    for i in range(W.shape[0]):\n",
    "        s += sumMat(W[i])\n",
    "    return s\n",
    "\n",
    "def sumMat(M):\n",
    "    if M.dtype == 'O': return sumWeirdMat(M)\n",
    "    s = M\n",
    "    for i in range(len(M.shape)):\n",
    "        s = sum(s)\n",
    "    return s\n",
    "\n",
    "def sampleData(X, C, batch_size):\n",
    "    indecies = [random.randint(0, X.shape[1]-1) for i in range(batch_size)]\n",
    "    X_batch = np.array([X[:,i] for i in indecies])\n",
    "    C_batch = np.array([C[:,i] for i in indecies])\n",
    "    return X_batch.T, C_batch.T\n",
    "\n",
    "def sum_of_outer_products(A, B):\n",
    "    output = np.zeros((A.shape[0], B.shape[0]))\n",
    "    for i in range(A.shape[1]):\n",
    "        output += np.outer(A[:,i], B[:,i])\n",
    "    return output"
   ]
  },
  {
   "cell_type": "markdown",
   "metadata": {
    "id": "XFa3RChU76D4"
   },
   "source": [
    "Read the data and initilize the weights matrix"
   ]
  },
  {
   "cell_type": "code",
   "execution_count": 99,
   "metadata": {
    "id": "xYSx7mt276D5"
   },
   "outputs": [],
   "source": [
    "# Extract the data\n",
    "mat = sio.loadmat(\"drive/My Drive/Colab Notebooks/PeaksData.mat\" )\n",
    "dataset_name = 'PeaksData'\n",
    "\n",
    "Ct=mat.get('Ct') # 5 by 25000 matrix - l by m\n",
    "Cv=mat.get('Cv')\n",
    "Xt=mat.get('Yt') # 2 by 25000 matrix - n by m (3 by 25000 after adding a row of ones for the bias interactions)\n",
    "Xv=mat.get('Yv')\n",
    "# n features, m size of training sample, l labels\n",
    "n = Xt.shape[0]\n",
    "l = Ct.shape[0]\n",
    "m = Ct.shape[1]"
   ]
  },
  {
   "cell_type": "code",
   "execution_count": 100,
   "metadata": {
    "id": "PdYBX8kS76D6"
   },
   "outputs": [],
   "source": [
    "# initialize W and add ones row to X for the biases\n",
    "def initialW(n,l):\n",
    "    W = np.random.rand(n,l)\n",
    "    return W\n",
    "\n",
    "def add_b(X):\n",
    "    m = X.shape[1]\n",
    "    ones_vector = np.ones(shape=(1,m))\n",
    "    X = np.concatenate((X, ones_vector), axis=0)\n",
    "    return X"
   ]
  },
  {
   "cell_type": "markdown",
   "metadata": {
    "id": "QxhDhaEo76D7"
   },
   "source": [
    "Define the softmax and the softmaxLoss"
   ]
  },
  {
   "cell_type": "code",
   "execution_count": 101,
   "metadata": {
    "id": "UDd9Obn376D8"
   },
   "outputs": [],
   "source": [
    "def softmax(X, W):\n",
    "    out = np.matmul(add_b(X).transpose(), W)\n",
    "    eta = out.max()\n",
    "    out = out - eta\n",
    "    out = vec_exp(out)\n",
    "    sum_of_elements = np.array([sum(row) for row in out])\n",
    "    for i in range(out.shape[0]):\n",
    "        out[i] = out[i] / sum_of_elements[i]\n",
    "    return out"
   ]
  },
  {
   "cell_type": "code",
   "execution_count": 102,
   "metadata": {
    "id": "Lu6rKSkq76D9"
   },
   "outputs": [],
   "source": [
    "def softmaxLoss(X, W, C):\n",
    "    Cn = [C[:,i].tolist().index(1) for i in range(C.shape[1])]\n",
    "    softmax_matrix = softmax(X,W)\n",
    "    loss = 0\n",
    "    for i in range(len(Cn)):\n",
    "        loss = loss + math.log(softmax_matrix[i][Cn[i]])\n",
    "    return -loss/len(Cn)"
   ]
  },
  {
   "cell_type": "code",
   "execution_count": 103,
   "metadata": {
    "id": "MeaW9e3h76D-"
   },
   "outputs": [],
   "source": [
    "def softmaxClassifier(X,W):\n",
    "    M = softmax(X,W).T\n",
    "    preds = np.empty(M.shape[1])\n",
    "    for i in range(preds.size):\n",
    "        preds[i] = M[:,i].argmax()\n",
    "    return preds"
   ]
  },
  {
   "cell_type": "code",
   "execution_count": 104,
   "metadata": {
    "id": "P0oOyWdO76D_"
   },
   "outputs": [],
   "source": [
    "def computeSucRate(X, C, W, classifier):\n",
    "    subsample_size = 750\n",
    "    X_sample, C_sample = sampleData(X, C, subsample_size)\n",
    "    preds = classifier(X_sample, W)\n",
    "    return sum(np.array([preds[i]==C_sample[:,i].argmax() for i in range(subsample_size)]))/subsample_size"
   ]
  },
  {
   "cell_type": "markdown",
   "metadata": {
    "id": "BxQua7kM76D_"
   },
   "source": [
    "Define the derivatives of the softmax loss function according to X and according to W"
   ]
  },
  {
   "cell_type": "code",
   "execution_count": 105,
   "metadata": {
    "id": "QEVUhX-i76EA"
   },
   "outputs": [],
   "source": [
    "# gradients of the loss of the softmax with relation to W.\n",
    "def dLoss_dW(X,W,C):\n",
    "    smXW = softmax(X, W)\n",
    "    return np.matmul(add_b(X), smXW-C.T) /X.shape[1]"
   ]
  },
  {
   "cell_type": "code",
   "execution_count": 106,
   "metadata": {
    "id": "ofIRG67_76EA"
   },
   "outputs": [],
   "source": [
    "# gradients of the loss of the softmax with relation to X\n",
    "def dLoss_dX(X,W,C):\n",
    "    smXW = softmax(X, W)\n",
    "    return (np.delete(np.matmul(W, smXW.T - C)/X.shape[1], X.shape[0], 0))"
   ]
  },
  {
   "cell_type": "markdown",
   "metadata": {
    "id": "ZEEltSD-76EB"
   },
   "source": [
    "define the grad_test function"
   ]
  },
  {
   "cell_type": "code",
   "execution_count": 107,
   "metadata": {
    "id": "VdxepebX76EB"
   },
   "outputs": [],
   "source": [
    "def ratiosConvergenceTest(vec, ratio, epsilon):\n",
    "    counter = 0\n",
    "    for i in range(vec.size-1):\n",
    "        if (abs(vec[i]/vec[i+1])<=ratio + epsilon and\n",
    "            abs(vec[i]/vec[i+1])>=ratio - epsilon):\n",
    "                counter = counter+1\n",
    "    return counter >=3"
   ]
  },
  {
   "cell_type": "code",
   "execution_count": 108,
   "metadata": {
    "id": "qshQv7VG76EC"
   },
   "outputs": [],
   "source": [
    "# fun_to_grad: nparr --> grad (takes a point in the domain and returns it's gradient)\n",
    "# fun_to_f_arr: nparr --> f(nparr) (f is scalar. takes a point in the domain and returns a number)\n",
    "# we assume dims(nparr) = dims(grad) (so to get \n",
    "#the change in output from the change in input multiply the\n",
    "# change in input entry-entry with the gradient and sum\n",
    "# - like scalar product) \n",
    "def gradTest(fun_to_f_arr, fun_to_grad, nparr):\n",
    "    times = 15 # Number of sampeling points.\n",
    "    grad = fun_to_grad(nparr)\n",
    "    n = grad.shape[0]\n",
    "    fx = fun_to_f_arr(nparr) \n",
    "    A = np.random.rand(*grad.shape)\n",
    "    A = A/sumMat(A)\n",
    "    d_grad = sumMat(A*grad) \n",
    "    fx_epsilon = (np.array([fun_to_f_arr(nparr+(2**(-i))*A)\n",
    "                            for i in range(times)]))\n",
    "    d_grad_vec = np.array([2**(-i) for i in range(times)]) * d_grad\n",
    "    df = abs(fx_epsilon-fx)\n",
    "    df_grad = abs(fx_epsilon - fx - d_grad_vec)\n",
    "    return df, df_grad"
   ]
  },
  {
   "cell_type": "code",
   "execution_count": 109,
   "metadata": {
    "id": "jiR_qUs476EE"
   },
   "outputs": [],
   "source": [
    "def showTable(df,df_grad, title_str=\"\", layers_dimensions=None):\n",
    "    arr1 = np.array([df[i]/df[i+1] for i in range(df.size-1)])\n",
    "    arr2 = np.array([df_grad[i]/df_grad[i+1] for i in range(df.size-1)])\n",
    "    \n",
    "    fig, ax = plt.subplots()\n",
    "    ax.plot(df, label=r'df (i) = $|f(x+{\\varepsilon}_{i}d)-f(x)|$')\n",
    "    ax.plot(df_grad, label=r'df_grad (i) = $|f(x+\\varepsilon_{i}d)−f(x)-\\varepsilon_{i}d^T\\nabla(x)| $')\n",
    "    ax.plot(arr1, label=r'df (i) / df (i+1)')\n",
    "    ax.plot(arr2, label=r'df_grad (i) / df_grad (i+1)')\n",
    "    plt.xlabel(r'$-log_2(\\varepsilon_i)$')\n",
    "    plt.ylabel(\"rate\")\n",
    "    \n",
    "    if layers_dimensions is None:\n",
    "        ax.set_title('Grad. Test'+title_str)\n",
    "    else:\n",
    "        ax.set_title('Grad. Test'+title_str+r' layers dimensions: '+str(layers_dimensions))\n",
    "    plt.legend()\n",
    "    plt.show()"
   ]
  },
  {
   "cell_type": "code",
   "execution_count": 110,
   "metadata": {
    "colab": {
     "base_uri": "https://localhost:8080/",
     "height": 300
    },
    "id": "URO2aHwz76EE",
    "outputId": "ebda8828-b241-40bf-dd17-c9b33f16db5f",
    "scrolled": true
   },
   "outputs": [
    {
     "data": {
      "image/png": "[encoded data removed]",
      "text/plain": [
       "<Figure size 432x288 with 1 Axes>"
      ]
     },
     "metadata": {
      "needs_background": "light",
      "tags": []
     },
     "output_type": "display_data"
    }
   ],
   "source": [
    "# gradient test to dLoss_dW\n",
    "X_batch, C_batch = sampleData(Xt, Ct, 2500)\n",
    "df, df_grad=gradTest(carryMiddleArg(softmaxLoss, X_batch, C_batch),\n",
    "                     carryMiddleArg(dLoss_dW, X_batch, C_batch),\n",
    "                     initialW(n+1,l))\n",
    "showTable(df,df_grad, r' of the softmax loss w.r.t. $W$')"
   ]
  },
  {
   "cell_type": "markdown",
   "metadata": {
    "id": "Oml1QuCl76EG"
   },
   "source": [
    "### Second step of part 1: SGD"
   ]
  },
  {
   "cell_type": "code",
   "execution_count": 111,
   "metadata": {
    "id": "RMEqrJWz76EH"
   },
   "outputs": [],
   "source": [
    "def gradientDecent(X, W, C, compute_grad, epochs,\n",
    "                   learning_rate, batch_size, update_epoch_func):\n",
    "    for i in range(epochs):\n",
    "        X_batch, C_batch = sampleData(X, C, batch_size)\n",
    "        W -= learning_rate * compute_grad(X_batch, W, C_batch)\n",
    "        update_epoch_func(W, iter_num=i)"
   ]
  },
  {
   "cell_type": "code",
   "execution_count": 112,
   "metadata": {
    "id": "v_pHJqXP76EK"
   },
   "outputs": [],
   "source": [
    "def plotSucRates(train_suc_rate,valid_suc_rate,loss_rate, epochs,\n",
    "                 num_of_epochs_groups,ler_rate,batch_size,\n",
    "                 dataset_name=None, layers_dimensions=None):\n",
    "    group_epochs = epochs/num_of_epochs_groups\n",
    "    y= (np.arange(len(train_suc_rate))+1)*group_epochs\n",
    "    fig, ax = plt.subplots()\n",
    "    ax.plot(y,train_suc_rate, label=\"train\")\n",
    "    ax.plot(y,valid_suc_rate, label=\"validation\")\n",
    "    ax.plot(y,loss_rate, label=\"loss rate\")\n",
    "    title = \"Rates: ler. rate = {}, batch size = {}\".format(ler_rate,batch_size)\n",
    "    if layers_dimensions is not None:\n",
    "        title += ', dims= '+str(layers_dimensions)\n",
    "    if dataset_name is not None:\n",
    "        title += ', dataset= '+dataset_name\n",
    "    ax.set_title(title)\n",
    "    \n",
    "    \n",
    "    plt.legend()\n",
    "    plt.xlabel('epochs')\n",
    "    plt.ylabel(\"numerical value\")\n",
    "    plt.show()"
   ]
  },
  {
   "cell_type": "code",
   "execution_count": 113,
   "metadata": {
    "colab": {
     "base_uri": "https://localhost:8080/",
     "height": 363
    },
    "id": "MJXDZHtl76EL",
    "outputId": "0d35120d-45fb-416c-93a9-f57f4a56f5ea",
    "scrolled": false
   },
   "outputs": [
    {
     "data": {
      "image/png": "[encoded data removed]",
      "text/plain": [
       "<Figure size 432x288 with 1 Axes>"
      ]
     },
     "metadata": {
      "needs_background": "light",
      "tags": []
     },
     "output_type": "display_data"
    },
    {
     "name": "stdout",
     "output_type": "stream",
     "text": [
      "last 5 trains = 0.5581333333333334\n",
      "last 5 validations = 0.5674666666666667\n",
      "last 5 loss_rate = 1.222044667976515\n",
      "\n"
     ]
    }
   ],
   "source": [
    "epochs = 2000\n",
    "num_of_epochs_groups = 50\n",
    "for ler_rate in [1,0.1,0.01,0.001]:\n",
    "    for batch_size in [1,25,50,100]:\n",
    "        if ler_rate==1 and batch_size!=100:\n",
    "            continue\n",
    "        elif ler_rate == 1:\n",
    "            epochs = 1000\n",
    "        elif ler_rate ==0.1:\n",
    "            epochs = 10000\n",
    "        elif ler_rate ==0.01:\n",
    "            epochs = 2500\n",
    "        elif ler_rate ==0.001:\n",
    "            if batch_size<25:\n",
    "                epochs = 15000\n",
    "            elif batch_size == 25:\n",
    "                epochs = 25000\n",
    "            elif batch_size == 50:\n",
    "                epochs = 20000\n",
    "            elif batch_size == 100:\n",
    "                epochs = 18000\n",
    "            else:\n",
    "                epochs = 1000\n",
    "        \n",
    "        group_epochs = epochs/num_of_epochs_groups\n",
    "        \n",
    "        train_suc_rate = np.empty(int(epochs/group_epochs))\n",
    "        valid_suc_rate = np.empty(int(epochs/group_epochs))\n",
    "        loss_rate = np.empty(int(epochs/group_epochs))\n",
    "        \n",
    "        def updateEpochRates(W, iter_num):\n",
    "            if iter_num%group_epochs == 0:\n",
    "                train_suc_rate[int(iter_num/group_epochs)] = computeSucRate(\n",
    "                    Xt, Ct, W, softmaxClassifier\n",
    "                )\n",
    "                valid_suc_rate[int(iter_num/group_epochs)] = computeSucRate(\n",
    "                    Xv, Cv, W, softmaxClassifier\n",
    "                )\n",
    "                loss_rate[int(iter_num/group_epochs)] = softmaxLoss(Xv,W,Cv)\n",
    "            return\n",
    "        gradientDecent(Xt, initialW(n+1,l), Ct, compute_grad=dLoss_dW,\n",
    "                       epochs=epochs, learning_rate=ler_rate,\n",
    "                       batch_size=batch_size, \n",
    "                       update_epoch_func=updateEpochRates)\n",
    "        \n",
    "        plotSucRates(train_suc_rate, valid_suc_rate, loss_rate, epochs,\n",
    "                 num_of_epochs_groups, ler_rate, batch_size)\n",
    "        \n",
    "        print(\"last 5 trains = {}\".format(sum(train_suc_rate[-5:])/5))\n",
    "        print(\"last 5 validations = {}\".format(sum(valid_suc_rate[-5:])/5))\n",
    "        print(\"last 5 loss_rate = {}\".format(sum(loss_rate[-5:])/5))\n",
    "        print(\"\")"
   ]
  },
  {
   "cell_type": "markdown",
   "metadata": {
    "id": "aH8LyF6b76EP"
   },
   "source": [
    "### Step 1 of part 2"
   ]
  },
  {
   "cell_type": "markdown",
   "metadata": {
    "id": "lpDWYLfB76EP"
   },
   "source": [
    "Network definition and forward pass"
   ]
  },
  {
   "cell_type": "code",
   "execution_count": 114,
   "metadata": {
    "colab": {
     "base_uri": "https://localhost:8080/"
    },
    "id": "lDPBdTX376EQ",
    "outputId": "9aeb4bb3-2873-4a57-e367-542697b46904"
   },
   "outputs": [
    {
     "name": "stderr",
     "output_type": "stream",
     "text": [
      "/usr/local/lib/python3.7/dist-packages/ipykernel_launcher.py:5: VisibleDeprecationWarning: Creating an ndarray from ragged nested sequences (which is a list-or-tuple of lists-or-tuples-or ndarrays with different lengths or shapes) is deprecated. If you meant to do this, you must specify 'dtype=object' when creating the ndarray\n",
      "  \"\"\"\n"
     ]
    }
   ],
   "source": [
    "def defineNetworkParameters(layers_dimensions):\n",
    "    parameters = [initialW(layers_dimensions[i+1],layers_dimensions[i]+1) for i in range(len(layers_dimensions)-1)] # +1 for the bias\n",
    "    parameters.append(0)\n",
    "    #???\n",
    "    parameters = np.array(parameters)\n",
    "    return np.delete(parameters, parameters.shape[0]-1, 0)\n",
    "    \n",
    "def activationFunctionArray(activation_function, number_of_layers):\n",
    "    return [activation_function for i in range(number_of_layers-1)]\n",
    "\n",
    "# defining the net\n",
    "layers_dimensions = [Xv.shape[0], 5, 10, Cv.shape[0]]\n",
    "layers_parameters = defineNetworkParameters(layers_dimensions)\n",
    "layers_activation_functions = activationFunctionArray(np.vectorize(math.tanh), len(layers_dimensions)-1)\n",
    "af_derivatives = activationFunctionArray(vec_tanh_derivative, len(layers_dimensions)-1)\n",
    "L = len(layers_dimensions)-1"
   ]
  },
  {
   "cell_type": "code",
   "execution_count": 115,
   "metadata": {
    "id": "U1T1njqM76ER"
   },
   "outputs": [],
   "source": [
    "# Define the forward pass\n",
    "def forwardPass(X, P_array, AF_array):\n",
    "    layers_neurons = [X]\n",
    "    for i in range(len(P_array)-1):\n",
    "        layers_neurons.append(AF_array[i](np.matmul(P_array[i], add_b(layers_neurons[i]))))\n",
    "    return layers_neurons"
   ]
  },
  {
   "cell_type": "markdown",
   "metadata": {
    "id": "5BuKMtX376ES"
   },
   "source": [
    "Finding the gradients of a layer in the NN with respect to X and with respect to W."
   ]
  },
  {
   "cell_type": "code",
   "execution_count": 116,
   "metadata": {
    "id": "gttWkrjm76ES"
   },
   "outputs": [],
   "source": [
    "def dX_times_vec(V, X, W, sigma_tag):\n",
    "    return np.delete(np.matmul(W.T, sigma_tag(np.matmul(W,add_b(X)))*V), W.T.shape[0]-1, 0)"
   ]
  },
  {
   "cell_type": "code",
   "execution_count": 117,
   "metadata": {
    "id": "vjn4bOyR76ET"
   },
   "outputs": [],
   "source": [
    "def dW_times_vec(V, X, W, sigma_tag):\n",
    "    return sum_of_outer_products(sigma_tag(np.matmul(W,add_b(X)))*V, add_b(X))"
   ]
  },
  {
   "cell_type": "markdown",
   "metadata": {
    "id": "MF4U5y1tnBTf"
   },
   "source": [
    "Performinf the direct Jacobian transpose test to the functions defined above."
   ]
  },
  {
   "cell_type": "code",
   "execution_count": 118,
   "metadata": {
    "colab": {
     "base_uri": "https://localhost:8080/",
     "height": 585
    },
    "id": "wwsQSCGf76ET",
    "outputId": "fd0a42dc-c90a-4019-868c-80d9e5dc3885"
   },
   "outputs": [
    {
     "data": {
      "image/png": "[encoded data removed]",
      "text/plain": [
       "<Figure size 432x288 with 1 Axes>"
      ]
     },
     "metadata": {
      "needs_background": "light",
      "tags": []
     },
     "output_type": "display_data"
    },
    {
     "data": {
      "image/png": "[encoded data removed]",
      "text/plain": [
       "<Figure size 432x288 with 1 Axes>"
      ]
     },
     "metadata": {
      "needs_background": "light",
      "tags": []
     },
     "output_type": "display_data"
    }
   ],
   "source": [
    "# testing dX_times_vec and dW_times_vec\n",
    "# define the parameters and the function\n",
    "a, b = 10, 12\n",
    "W = initialW(a,b)\n",
    "X = initialW(b-1,2)\n",
    "f_of_X = lambda X : np.vectorize(math.tanh)(np.matmul(W, add_b(X)))\n",
    "f_of_W_and_b = lambda W : np.vectorize(math.tanh)(np.matmul(W, add_b(X)))\n",
    "sigma_tag = vec_tanh_derivative\n",
    "\n",
    "u = np.random.rand(W.shape[0], X.shape[1]) \n",
    "g_of_X = lambda X : sumMat(u*f_of_X(X))\n",
    "g_of_W_and_b = lambda W : sumMat(u*f_of_W_and_b(W))\n",
    "\n",
    "g_of_X_grad = lambda X : dX_times_vec(u,X,W, sigma_tag) # takes X and reurns the gradient of g_of_X at X\n",
    "g_of_W_and_b_grad = lambda W : dW_times_vec(u,X,W, sigma_tag) # takes W and reurns the gradient of g_of_W_and_b at X\n",
    "\n",
    "df, df_grad = gradTest(g_of_W_and_b, g_of_W_and_b_grad, W)\n",
    "showTable(df,df_grad, r' for a layer w.r.t. $W$')\n",
    "\n",
    "df, df_grad = gradTest(g_of_X, g_of_X_grad, X)\n",
    "showTable(df,df_grad, r' for a layer w.r.t. $X$')"
   ]
  },
  {
   "cell_type": "markdown",
   "metadata": {
    "id": "y1Dx_S9k76EU"
   },
   "source": [
    "Back propagation"
   ]
  },
  {
   "cell_type": "code",
   "execution_count": 119,
   "metadata": {
    "id": "Rllw9cui76EV"
   },
   "outputs": [],
   "source": [
    "def backProp(layers_neurons, layers_parameters, C_batch, af_derivatives):\n",
    "    L = layers_parameters.shape[0]\n",
    "    dW = [0]\n",
    "    dW.append(dLoss_dW(layers_neurons[L-1], layers_parameters[L-1].T, C_batch).T)\n",
    "    dX = dLoss_dX(layers_neurons[L-1], layers_parameters[L-1].T, C_batch)\n",
    "    for i in range(L-2, -1, -1):\n",
    "        dW.append(dW_times_vec(dX, layers_neurons[i], layers_parameters[i], af_derivatives[i]))\n",
    "        dX = dX_times_vec(dX, layers_neurons[i], layers_parameters[i], af_derivatives[i])\n",
    "    # from here on it's just formating the output dW so it would be a numpy array\n",
    "    dW.reverse() \n",
    "    dW = np.array(dW)\n",
    "    return np.delete(dW, dW.shape[0]-1, 0) # getting rid of the zero we added to dW"
   ]
  },
  {
   "cell_type": "markdown",
   "metadata": {
    "id": "3SAVfe3z76EW"
   },
   "source": [
    "Grad-test to the derivative of the whole net which is calculated with back-prop."
   ]
  },
  {
   "cell_type": "code",
   "execution_count": 120,
   "metadata": {
    "colab": {
     "base_uri": "https://localhost:8080/",
     "height": 387
    },
    "id": "EqsegQUt76EW",
    "outputId": "7d3c131c-6384-4b44-8573-d2a5a46652d6",
    "scrolled": true
   },
   "outputs": [
    {
     "name": "stderr",
     "output_type": "stream",
     "text": [
      "/usr/local/lib/python3.7/dist-packages/ipykernel_launcher.py:5: VisibleDeprecationWarning: Creating an ndarray from ragged nested sequences (which is a list-or-tuple of lists-or-tuples-or ndarrays with different lengths or shapes) is deprecated. If you meant to do this, you must specify 'dtype=object' when creating the ndarray\n",
      "  \"\"\"\n",
      "/usr/local/lib/python3.7/dist-packages/ipykernel_launcher.py:11: VisibleDeprecationWarning: Creating an ndarray from ragged nested sequences (which is a list-or-tuple of lists-or-tuples-or ndarrays with different lengths or shapes) is deprecated. If you meant to do this, you must specify 'dtype=object' when creating the ndarray\n",
      "  # This is added back by InteractiveShellApp.init_path()\n"
     ]
    },
    {
     "data": {
      "image/png": "[encoded data removed]",
      "text/plain": [
       "<Figure size 432x288 with 1 Axes>"
      ]
     },
     "metadata": {
      "needs_background": "light",
      "tags": []
     },
     "output_type": "display_data"
    }
   ],
   "source": [
    "# defining the net\n",
    "layers_dimensions = [Xv.shape[0], 5,7,8,9,10, Cv.shape[0]]\n",
    "layers_parameters = defineNetworkParameters(layers_dimensions)\n",
    "layers_activation_functions = activationFunctionArray(np.vectorize(math.tanh), len(layers_dimensions)-1)\n",
    "af_derivatives = activationFunctionArray(vec_tanh_derivative, len(layers_dimensions)-1)\n",
    "L = len(layers_dimensions)-1\n",
    "\n",
    "# gradient test for the whole net.\n",
    "X_batch, C_batch = sampleData(Xt, Ct, 100)\n",
    "\n",
    "# W is a numpy array which holds all the parameters of the net.\n",
    "W = layers_parameters \n",
    "# a function that takes parameters for the net and returns the loss with respect to them\n",
    "loss_of_W = lambda W : softmaxLoss(forwardPass(X_batch, W, layers_activation_functions)[L-1], W[L-1].T, C_batch)\n",
    "\n",
    "# a function that takes parameters and returns the gradient with respect to them\n",
    "compute_W_grad = lambda W : backProp(forwardPass(X_batch, W, layers_activation_functions), W, C_batch, af_derivatives)\n",
    "\n",
    "df, df_grad = gradTest(loss_of_W, compute_W_grad, W)\n",
    "showTable(df,df_grad, r' for the net', layers_dimensions)"
   ]
  },
  {
   "cell_type": "markdown",
   "metadata": {
    "id": "YyMYfndC76EX"
   },
   "source": [
    "Training the NN"
   ]
  },
  {
   "cell_type": "code",
   "execution_count": 121,
   "metadata": {
    "id": "-ESUkjwV76EX"
   },
   "outputs": [],
   "source": [
    "def computeGradNet(X, W, C):\n",
    "    return backProp(\n",
    "        forwardPass(X, W, layers_activation_functions),\n",
    "        W, C, af_derivatives)"
   ]
  },
  {
   "cell_type": "code",
   "execution_count": 122,
   "metadata": {
    "id": "lWPitXeS76EY"
   },
   "outputs": [],
   "source": [
    "# takes a set of examples and parmeters W for the softmax and returns an array with the predicted labels.\n",
    "def NNClassifier(X, W, AF_array):\n",
    "    neurons_layers = forwardPass(X, W, AF_array)\n",
    "    last_layer_index = W.shape[0]-1\n",
    "    M = softmax(neurons_layers[last_layer_index],W[last_layer_index].T).T\n",
    "    preds = np.empty(M.shape[1])\n",
    "    for i in range(preds.size):\n",
    "        preds[i] = M[:,i].argmax()\n",
    "    return preds"
   ]
  },
  {
   "cell_type": "code",
   "execution_count": 123,
   "metadata": {
    "id": "J7uATTK076EY"
   },
   "outputs": [],
   "source": [
    "def NNLoss(X,C,W, layers_activation_functions):\n",
    "    L = W.shape[0]\n",
    "    return softmaxLoss(forwardPass(X, W, layers_activation_functions)[L-1], W[L-1].T, C)"
   ]
  },
  {
   "cell_type": "code",
   "execution_count": 124,
   "metadata": {
    "colab": {
     "base_uri": "https://localhost:8080/",
     "height": 451
    },
    "id": "abRQX8_q76Ee",
    "outputId": "adf67af3-4d9d-415f-c38a-cbe6452b7fd2"
   },
   "outputs": [
    {
     "name": "stderr",
     "output_type": "stream",
     "text": [
      "/usr/local/lib/python3.7/dist-packages/ipykernel_launcher.py:5: VisibleDeprecationWarning: Creating an ndarray from ragged nested sequences (which is a list-or-tuple of lists-or-tuples-or ndarrays with different lengths or shapes) is deprecated. If you meant to do this, you must specify 'dtype=object' when creating the ndarray\n",
      "  \"\"\"\n",
      "/usr/local/lib/python3.7/dist-packages/ipykernel_launcher.py:11: VisibleDeprecationWarning: Creating an ndarray from ragged nested sequences (which is a list-or-tuple of lists-or-tuples-or ndarrays with different lengths or shapes) is deprecated. If you meant to do this, you must specify 'dtype=object' when creating the ndarray\n",
      "  # This is added back by InteractiveShellApp.init_path()\n"
     ]
    },
    {
     "data": {
      "image/png": "[encoded data removed]",
      "text/plain": [
       "<Figure size 432x288 with 1 Axes>"
      ]
     },
     "metadata": {
      "needs_background": "light",
      "tags": []
     },
     "output_type": "display_data"
    },
    {
     "name": "stdout",
     "output_type": "stream",
     "text": [
      "last 5 trains = 0.8802666666666668\n",
      "last 5 validations = 0.8722666666666667\n",
      "last 5 smL_rate = 0.37821711815308556\n",
      "\n"
     ]
    }
   ],
   "source": [
    "# redefining the net\n",
    "layers_dimensions = [Xv.shape[0], 5, 10, Cv.shape[0]]\n",
    "layers_parameters = defineNetworkParameters(layers_dimensions)\n",
    "layers_activation_functions = activationFunctionArray(np.vectorize(math.tanh), len(layers_dimensions)-1)\n",
    "af_derivatives = activationFunctionArray(vec_tanh_derivative, len(layers_dimensions)-1)\n",
    "L = len(layers_dimensions)-1\n",
    "\n",
    "\n",
    "\n",
    "\n",
    "ler_rate = 0.1\n",
    "batch_size = 40\n",
    "epochs = 40000\n",
    "num_of_epochs_groups = 500\n",
    "\n",
    "group_epochs = epochs/num_of_epochs_groups\n",
    "\n",
    "train_suc_rate = np.empty(int(epochs/group_epochs))\n",
    "valid_suc_rate = np.empty(int(epochs/group_epochs))\n",
    "loss_rate = np.empty(int(epochs/group_epochs))\n",
    "\n",
    "def updateEpochRates(W, iter_num):\n",
    "    if iter_num%group_epochs == 0:\n",
    "        train_suc_rate[int(iter_num/group_epochs)] = computeSucRate(\n",
    "            Xt, Ct, W, carryLeftAndMiddleArgs(NNClassifier, layers_activation_functions)\n",
    "        )\n",
    "        valid_suc_rate[int(iter_num/group_epochs)] = computeSucRate(\n",
    "            Xv, Cv, W, carryLeftAndMiddleArgs(NNClassifier, layers_activation_functions)\n",
    "        )\n",
    "        loss_rate[int(iter_num/group_epochs)] = NNLoss(Xv,Cv,W, layers_activation_functions)\n",
    "    return\n",
    "\n",
    "\n",
    "gradientDecent(Xt, layers_parameters, Ct,\n",
    "               compute_grad=computeGradNet,\n",
    "               epochs=epochs,\n",
    "               learning_rate=ler_rate,\n",
    "               batch_size=batch_size, \n",
    "               update_epoch_func=updateEpochRates)\n",
    "\n",
    "\n",
    "\n",
    "plotSucRates(train_suc_rate, valid_suc_rate, loss_rate, epochs,\n",
    "         num_of_epochs_groups, ler_rate, batch_size,\n",
    "            dataset_name=dataset_name, layers_dimensions=layers_dimensions)\n",
    "\n",
    "print(\"last 5 trains = {}\".format(sum(train_suc_rate[-5:])/5))\n",
    "print(\"last 5 validations = {}\".format(sum(valid_suc_rate[-5:])/5))\n",
    "print(\"last 5 smL_rate = {}\".format(sum(loss_rate[-5:])/5))\n",
    "print(\"\")"
   ]
  }
 ],
 "metadata": {
  "accelerator": "GPU",
  "colab": {
   "name": "V7.ipynb",
   "provenance": []
  },
  "kernelspec": {
   "display_name": "Python 3",
   "language": "python",
   "name": "python3"
  },
  "language_info": {
   "codemirror_mode": {
    "name": "ipython",
    "version": 3
   },
   "file_extension": ".py",
   "mimetype": "text/x-python",
   "name": "python",
   "nbconvert_exporter": "python",
   "pygments_lexer": "ipython3",
   "version": "3.6.13"
  }
 },
 "nbformat": 4,
 "nbformat_minor": 1
}
